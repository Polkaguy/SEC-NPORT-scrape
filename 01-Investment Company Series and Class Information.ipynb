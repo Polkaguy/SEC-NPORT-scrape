{
 "cells": [
  {
   "cell_type": "code",
   "execution_count": 1,
   "metadata": {},
   "outputs": [],
   "source": [
    "import pandas as pd\n",
    "import requests\n",
    "from xml.etree import ElementTree as ET"
   ]
  },
  {
   "cell_type": "markdown",
   "metadata": {},
   "source": [
    "# 01-Investment Company Series and Class Information.ipynb\n",
    "***R Persichitte***\n",
    "\n",
    "***7/14/2020***\n",
    "\n",
    "## Purpose\n",
    "This section of code imports a list of all investment companies. Investment companies are now required to file form N-PORT. This information will be useful in finding company filings.\n",
    "\n",
    "Information about this form and how to use it can be found at the [SEC website](https://www.sec.gov/open/datasets-investment_company.html).\n",
    "\n",
    "## Method\n",
    "\n",
    "- 1) Download information from [SEC listing of investment companies](https://www.sec.gov/files/investment/data/other/investment-company-series-and-class-information/investment_company_series_class_2019.xml).\n",
    "- 2) Use ElementTree to parse the results into a dataframe.\n",
    "- 3) Use the `to_pickle()` method to save the results for future use."
   ]
  },
  {
   "cell_type": "code",
   "execution_count": 2,
   "metadata": {},
   "outputs": [],
   "source": [
    "link = 'https://www.sec.gov/files/investment/data/other/investment-company-series-and-class-information/investment_company_series_class_2019.xml'\n",
    "\n",
    "def download_data(link):\n",
    "    '''Use the link field to specify an XML document online.\n",
    "    This code will return it as an ElementTree'''\n",
    "    r = requests.get(link)\n",
    "    assert(r), r\n",
    "    return ET.fromstring(r.text)"
   ]
  },
  {
   "cell_type": "code",
   "execution_count": 3,
   "metadata": {},
   "outputs": [],
   "source": [
    "xml = download_data(link)"
   ]
  },
  {
   "cell_type": "code",
   "execution_count": 4,
   "metadata": {},
   "outputs": [],
   "source": [
    "all_companies = []\n",
    "for company in list(xml):\n",
    "    t_dict = {}\n",
    "    for e in list(company):\n",
    "        t_dict[e.tag] = e.text\n",
    "    all_companies += [t_dict]\n",
    "df = pd.DataFrame(all_companies)"
   ]
  },
  {
   "cell_type": "code",
   "execution_count": 5,
   "metadata": {},
   "outputs": [],
   "source": [
    "df.to_pickle('Investment Company Series and Class Information.p')"
   ]
  },
  {
   "cell_type": "code",
   "execution_count": null,
   "metadata": {},
   "outputs": [],
   "source": []
  }
 ],
 "metadata": {
  "kernelspec": {
   "display_name": "Python 3",
   "language": "python",
   "name": "python3"
  },
  "language_info": {
   "codemirror_mode": {
    "name": "ipython",
    "version": 3
   },
   "file_extension": ".py",
   "mimetype": "text/x-python",
   "name": "python",
   "nbconvert_exporter": "python",
   "pygments_lexer": "ipython3",
   "version": "3.8.3"
  },
  "toc": {
   "base_numbering": 1,
   "nav_menu": {},
   "number_sections": false,
   "sideBar": true,
   "skip_h1_title": false,
   "title_cell": "Table of Contents",
   "title_sidebar": "Contents",
   "toc_cell": false,
   "toc_position": {},
   "toc_section_display": true,
   "toc_window_display": false
  }
 },
 "nbformat": 4,
 "nbformat_minor": 2
}
